{
  "nbformat": 4,
  "nbformat_minor": 0,
  "metadata": {
    "colab": {
      "name": "TitanicCompetition.ipynb",
      "provenance": [],
      "collapsed_sections": [],
      "mount_file_id": "14sJgipWVc2WUiCwUXtWLfLiFqa1CG8L3",
      "authorship_tag": "ABX9TyPfMOefm0ir50VENU3XbSXX",
      "include_colab_link": true
    },
    "kernelspec": {
      "name": "python3",
      "display_name": "Python 3"
    }
  },
  "cells": [
    {
      "cell_type": "markdown",
      "metadata": {
        "id": "view-in-github",
        "colab_type": "text"
      },
      "source": [
        "<a href=\"https://colab.research.google.com/github/mustopahasan/BasicDL/blob/master/TitanicCompetition.ipynb\" target=\"_parent\"><img src=\"https://colab.research.google.com/assets/colab-badge.svg\" alt=\"Open In Colab\"/></a>"
      ]
    },
    {
      "cell_type": "markdown",
      "metadata": {
        "id": "-IIkOoqZF7SO",
        "colab_type": "text"
      },
      "source": [
        "Titanic Kaggle Competition, Using Tensorflow"
      ]
    },
    {
      "cell_type": "code",
      "metadata": {
        "id": "Ye6jcbq7ARrp",
        "colab_type": "code",
        "colab": {
          "base_uri": "https://localhost:8080/",
          "height": 75
        },
        "outputId": "70839219-26e7-421f-961f-1c2db2050097"
      },
      "source": [
        "import pandas as pd\n",
        "import numpy as np\n",
        "import matplotlib.pyplot as plt\n",
        "import seaborn as sns"
      ],
      "execution_count": 1,
      "outputs": [
        {
          "output_type": "stream",
          "text": [
            "/usr/local/lib/python3.6/dist-packages/statsmodels/tools/_testing.py:19: FutureWarning: pandas.util.testing is deprecated. Use the functions in the public API at pandas.testing instead.\n",
            "  import pandas.util.testing as tm\n"
          ],
          "name": "stderr"
        }
      ]
    },
    {
      "cell_type": "markdown",
      "metadata": {
        "id": "lIYp4VagGOQP",
        "colab_type": "text"
      },
      "source": [
        "# Data Preparation"
      ]
    },
    {
      "cell_type": "markdown",
      "metadata": {
        "id": "bqyNAl5CMVuq",
        "colab_type": "text"
      },
      "source": [
        "## Load the dat set"
      ]
    },
    {
      "cell_type": "code",
      "metadata": {
        "id": "b8OEpbNdMLo1",
        "colab_type": "code",
        "colab": {}
      },
      "source": [
        "path = '/content/drive/My Drive/Bangkit Project/Datasets/Titanic Dataset/train.csv'\n",
        "data = pd.read_csv(path)"
      ],
      "execution_count": 0,
      "outputs": []
    },
    {
      "cell_type": "markdown",
      "metadata": {
        "id": "shsHLeJFMmL_",
        "colab_type": "text"
      },
      "source": [
        "### Eksplore the data\n",
        "> Understand the data"
      ]
    },
    {
      "cell_type": "code",
      "metadata": {
        "id": "-hSGiYvdMd8h",
        "colab_type": "code",
        "outputId": "e3d005d7-a428-4f38-e95d-89e44f4ce1ac",
        "colab": {
          "base_uri": "https://localhost:8080/",
          "height": 204
        }
      },
      "source": [
        "data.head()"
      ],
      "execution_count": 3,
      "outputs": [
        {
          "output_type": "execute_result",
          "data": {
            "text/html": [
              "<div>\n",
              "<style scoped>\n",
              "    .dataframe tbody tr th:only-of-type {\n",
              "        vertical-align: middle;\n",
              "    }\n",
              "\n",
              "    .dataframe tbody tr th {\n",
              "        vertical-align: top;\n",
              "    }\n",
              "\n",
              "    .dataframe thead th {\n",
              "        text-align: right;\n",
              "    }\n",
              "</style>\n",
              "<table border=\"1\" class=\"dataframe\">\n",
              "  <thead>\n",
              "    <tr style=\"text-align: right;\">\n",
              "      <th></th>\n",
              "      <th>PassengerId</th>\n",
              "      <th>Survived</th>\n",
              "      <th>Pclass</th>\n",
              "      <th>Name</th>\n",
              "      <th>Sex</th>\n",
              "      <th>Age</th>\n",
              "      <th>SibSp</th>\n",
              "      <th>Parch</th>\n",
              "      <th>Ticket</th>\n",
              "      <th>Fare</th>\n",
              "      <th>Cabin</th>\n",
              "      <th>Embarked</th>\n",
              "    </tr>\n",
              "  </thead>\n",
              "  <tbody>\n",
              "    <tr>\n",
              "      <th>0</th>\n",
              "      <td>1</td>\n",
              "      <td>0</td>\n",
              "      <td>3</td>\n",
              "      <td>Braund, Mr. Owen Harris</td>\n",
              "      <td>male</td>\n",
              "      <td>22.0</td>\n",
              "      <td>1</td>\n",
              "      <td>0</td>\n",
              "      <td>A/5 21171</td>\n",
              "      <td>7.2500</td>\n",
              "      <td>NaN</td>\n",
              "      <td>S</td>\n",
              "    </tr>\n",
              "    <tr>\n",
              "      <th>1</th>\n",
              "      <td>2</td>\n",
              "      <td>1</td>\n",
              "      <td>1</td>\n",
              "      <td>Cumings, Mrs. John Bradley (Florence Briggs Th...</td>\n",
              "      <td>female</td>\n",
              "      <td>38.0</td>\n",
              "      <td>1</td>\n",
              "      <td>0</td>\n",
              "      <td>PC 17599</td>\n",
              "      <td>71.2833</td>\n",
              "      <td>C85</td>\n",
              "      <td>C</td>\n",
              "    </tr>\n",
              "    <tr>\n",
              "      <th>2</th>\n",
              "      <td>3</td>\n",
              "      <td>1</td>\n",
              "      <td>3</td>\n",
              "      <td>Heikkinen, Miss. Laina</td>\n",
              "      <td>female</td>\n",
              "      <td>26.0</td>\n",
              "      <td>0</td>\n",
              "      <td>0</td>\n",
              "      <td>STON/O2. 3101282</td>\n",
              "      <td>7.9250</td>\n",
              "      <td>NaN</td>\n",
              "      <td>S</td>\n",
              "    </tr>\n",
              "    <tr>\n",
              "      <th>3</th>\n",
              "      <td>4</td>\n",
              "      <td>1</td>\n",
              "      <td>1</td>\n",
              "      <td>Futrelle, Mrs. Jacques Heath (Lily May Peel)</td>\n",
              "      <td>female</td>\n",
              "      <td>35.0</td>\n",
              "      <td>1</td>\n",
              "      <td>0</td>\n",
              "      <td>113803</td>\n",
              "      <td>53.1000</td>\n",
              "      <td>C123</td>\n",
              "      <td>S</td>\n",
              "    </tr>\n",
              "    <tr>\n",
              "      <th>4</th>\n",
              "      <td>5</td>\n",
              "      <td>0</td>\n",
              "      <td>3</td>\n",
              "      <td>Allen, Mr. William Henry</td>\n",
              "      <td>male</td>\n",
              "      <td>35.0</td>\n",
              "      <td>0</td>\n",
              "      <td>0</td>\n",
              "      <td>373450</td>\n",
              "      <td>8.0500</td>\n",
              "      <td>NaN</td>\n",
              "      <td>S</td>\n",
              "    </tr>\n",
              "  </tbody>\n",
              "</table>\n",
              "</div>"
            ],
            "text/plain": [
              "   PassengerId  Survived  Pclass  ...     Fare Cabin  Embarked\n",
              "0            1         0       3  ...   7.2500   NaN         S\n",
              "1            2         1       1  ...  71.2833   C85         C\n",
              "2            3         1       3  ...   7.9250   NaN         S\n",
              "3            4         1       1  ...  53.1000  C123         S\n",
              "4            5         0       3  ...   8.0500   NaN         S\n",
              "\n",
              "[5 rows x 12 columns]"
            ]
          },
          "metadata": {
            "tags": []
          },
          "execution_count": 3
        }
      ]
    },
    {
      "cell_type": "markdown",
      "metadata": {
        "id": "77LqVMpLM0EO",
        "colab_type": "text"
      },
      "source": [
        "> Drop PassangerID and Name column, these column do not give us any information"
      ]
    },
    {
      "cell_type": "code",
      "metadata": {
        "id": "i1PJBigwMviW",
        "colab_type": "code",
        "colab": {}
      },
      "source": [
        "data = data.drop(['PassengerId', 'Name'], axis=1)"
      ],
      "execution_count": 0,
      "outputs": []
    },
    {
      "cell_type": "code",
      "metadata": {
        "id": "H9jlPBb2VtrQ",
        "colab_type": "code",
        "colab": {}
      },
      "source": [
        "data = data.drop(['Ticket'],axis=1)"
      ],
      "execution_count": 0,
      "outputs": []
    },
    {
      "cell_type": "markdown",
      "metadata": {
        "id": "xrlO2932Ncn4",
        "colab_type": "text"
      },
      "source": [
        "### Eksplor Survived columns \n",
        "> this column is target variable"
      ]
    },
    {
      "cell_type": "code",
      "metadata": {
        "id": "THa4-CK3NtcZ",
        "colab_type": "code",
        "outputId": "16c3a8d7-06cd-4e34-8467-6b38de4d97a3",
        "colab": {
          "base_uri": "https://localhost:8080/",
          "height": 262
        }
      },
      "source": [
        "data.Survived.value_counts(normalize=True).plot(kind='bar').grid(True)"
      ],
      "execution_count": 5,
      "outputs": [
        {
          "output_type": "display_data",
          "data": {
            "image/png": "[encoded data removed]",
            "text/plain": [
              "<Figure size 432x288 with 1 Axes>"
            ]
          },
          "metadata": {
            "tags": [],
            "needs_background": "light"
          }
        }
      ]
    },
    {
      "cell_type": "code",
      "metadata": {
        "id": "sWuZEX6PR_2q",
        "colab_type": "code",
        "outputId": "40ed4ad8-3083-4f90-e435-bb8a1ac4f733",
        "colab": {
          "base_uri": "https://localhost:8080/",
          "height": 204
        }
      },
      "source": [
        "data.head()"
      ],
      "execution_count": 6,
      "outputs": [
        {
          "output_type": "execute_result",
          "data": {
            "text/html": [
              "<div>\n",
              "<style scoped>\n",
              "    .dataframe tbody tr th:only-of-type {\n",
              "        vertical-align: middle;\n",
              "    }\n",
              "\n",
              "    .dataframe tbody tr th {\n",
              "        vertical-align: top;\n",
              "    }\n",
              "\n",
              "    .dataframe thead th {\n",
              "        text-align: right;\n",
              "    }\n",
              "</style>\n",
              "<table border=\"1\" class=\"dataframe\">\n",
              "  <thead>\n",
              "    <tr style=\"text-align: right;\">\n",
              "      <th></th>\n",
              "      <th>Survived</th>\n",
              "      <th>Pclass</th>\n",
              "      <th>Sex</th>\n",
              "      <th>Age</th>\n",
              "      <th>SibSp</th>\n",
              "      <th>Parch</th>\n",
              "      <th>Ticket</th>\n",
              "      <th>Fare</th>\n",
              "      <th>Cabin</th>\n",
              "      <th>Embarked</th>\n",
              "    </tr>\n",
              "  </thead>\n",
              "  <tbody>\n",
              "    <tr>\n",
              "      <th>0</th>\n",
              "      <td>0</td>\n",
              "      <td>3</td>\n",
              "      <td>male</td>\n",
              "      <td>22.0</td>\n",
              "      <td>1</td>\n",
              "      <td>0</td>\n",
              "      <td>A/5 21171</td>\n",
              "      <td>7.2500</td>\n",
              "      <td>NaN</td>\n",
              "      <td>S</td>\n",
              "    </tr>\n",
              "    <tr>\n",
              "      <th>1</th>\n",
              "      <td>1</td>\n",
              "      <td>1</td>\n",
              "      <td>female</td>\n",
              "      <td>38.0</td>\n",
              "      <td>1</td>\n",
              "      <td>0</td>\n",
              "      <td>PC 17599</td>\n",
              "      <td>71.2833</td>\n",
              "      <td>C85</td>\n",
              "      <td>C</td>\n",
              "    </tr>\n",
              "    <tr>\n",
              "      <th>2</th>\n",
              "      <td>1</td>\n",
              "      <td>3</td>\n",
              "      <td>female</td>\n",
              "      <td>26.0</td>\n",
              "      <td>0</td>\n",
              "      <td>0</td>\n",
              "      <td>STON/O2. 3101282</td>\n",
              "      <td>7.9250</td>\n",
              "      <td>NaN</td>\n",
              "      <td>S</td>\n",
              "    </tr>\n",
              "    <tr>\n",
              "      <th>3</th>\n",
              "      <td>1</td>\n",
              "      <td>1</td>\n",
              "      <td>female</td>\n",
              "      <td>35.0</td>\n",
              "      <td>1</td>\n",
              "      <td>0</td>\n",
              "      <td>113803</td>\n",
              "      <td>53.1000</td>\n",
              "      <td>C123</td>\n",
              "      <td>S</td>\n",
              "    </tr>\n",
              "    <tr>\n",
              "      <th>4</th>\n",
              "      <td>0</td>\n",
              "      <td>3</td>\n",
              "      <td>male</td>\n",
              "      <td>35.0</td>\n",
              "      <td>0</td>\n",
              "      <td>0</td>\n",
              "      <td>373450</td>\n",
              "      <td>8.0500</td>\n",
              "      <td>NaN</td>\n",
              "      <td>S</td>\n",
              "    </tr>\n",
              "  </tbody>\n",
              "</table>\n",
              "</div>"
            ],
            "text/plain": [
              "   Survived  Pclass     Sex   Age  ...            Ticket     Fare Cabin  Embarked\n",
              "0         0       3    male  22.0  ...         A/5 21171   7.2500   NaN         S\n",
              "1         1       1  female  38.0  ...          PC 17599  71.2833   C85         C\n",
              "2         1       3  female  26.0  ...  STON/O2. 3101282   7.9250   NaN         S\n",
              "3         1       1  female  35.0  ...            113803  53.1000  C123         S\n",
              "4         0       3    male  35.0  ...            373450   8.0500   NaN         S\n",
              "\n",
              "[5 rows x 10 columns]"
            ]
          },
          "metadata": {
            "tags": []
          },
          "execution_count": 6
        }
      ]
    },
    {
      "cell_type": "markdown",
      "metadata": {
        "id": "ze6leFVDSsfm",
        "colab_type": "text"
      },
      "source": [
        "### SEX\n",
        "> Sex variable"
      ]
    },
    {
      "cell_type": "code",
      "metadata": {
        "id": "3js0mMzOS5Mz",
        "colab_type": "code",
        "outputId": "37f8d5ec-4272-4212-c315-034831ecc71c",
        "colab": {
          "base_uri": "https://localhost:8080/",
          "height": 349
        }
      },
      "source": [
        "data.Sex.value_counts().plot(kind='bar').grid(True)\n",
        "print(np.round(data.Sex.value_counts(normalize=True)*100))"
      ],
      "execution_count": 7,
      "outputs": [
        {
          "output_type": "stream",
          "text": [
            "male      65.0\n",
            "female    35.0\n",
            "Name: Sex, dtype: float64\n"
          ],
          "name": "stdout"
        },
        {
          "output_type": "display_data",
          "data": {
            "image/png": "[encoded data removed]",
            "text/plain": [
              "<Figure size 432x288 with 1 Axes>"
            ]
          },
          "metadata": {
            "tags": [],
            "needs_background": "light"
          }
        }
      ]
    },
    {
      "cell_type": "code",
      "metadata": {
        "id": "Z6N9Xvv_TCH1",
        "colab_type": "code",
        "outputId": "ac5c567d-0542-49f8-8728-c399e160a64c",
        "colab": {
          "base_uri": "https://localhost:8080/",
          "height": 360
        }
      },
      "source": [
        "fig = plt.figure(figsize=(8,5))\n",
        "plt.subplot2grid((1,2),(0,0)).set_title('Survived')\n",
        "data[data.Survived == 1].Sex.value_counts(normalize=True).plot(kind='bar').grid(True)\n",
        "\n",
        "plt.subplot2grid((1,2),(0,1)).set_title('Not Survived')\n",
        "data[data.Survived==0].Sex.value_counts(normalize=True).plot(kind='bar').grid(True)"
      ],
      "execution_count": 26,
      "outputs": [
        {
          "output_type": "display_data",
          "data": {
            "image/png": "[encoded data removed]",
            "text/plain": [
              "<Figure size 576x360 with 2 Axes>"
            ]
          },
          "metadata": {
            "tags": [],
            "needs_background": "light"
          }
        }
      ]
    },
    {
      "cell_type": "markdown",
      "metadata": {
        "id": "ok3Ra6ci_EUS",
        "colab_type": "text"
      },
      "source": [
        "> More Females are survived than Males"
      ]
    },
    {
      "cell_type": "markdown",
      "metadata": {
        "id": "HReaRei0_Rtm",
        "colab_type": "text"
      },
      "source": [
        "### AGE"
      ]
    },
    {
      "cell_type": "code",
      "metadata": {
        "id": "2U3wKVdvkb0N",
        "colab_type": "code",
        "colab": {
          "base_uri": "https://localhost:8080/",
          "height": 188
        },
        "outputId": "9c9b8073-d420-4fb0-f52f-ccb994796698"
      },
      "source": [
        "data.Age.describe()"
      ],
      "execution_count": 34,
      "outputs": [
        {
          "output_type": "execute_result",
          "data": {
            "text/plain": [
              "count    714.000000\n",
              "mean      29.699118\n",
              "std       14.526497\n",
              "min        0.420000\n",
              "25%       20.125000\n",
              "50%       28.000000\n",
              "75%       38.000000\n",
              "max       80.000000\n",
              "Name: Age, dtype: float64"
            ]
          },
          "metadata": {
            "tags": []
          },
          "execution_count": 34
        }
      ]
    },
    {
      "cell_type": "code",
      "metadata": {
        "id": "6lYKuzCU_nm7",
        "colab_type": "code",
        "colab": {}
      },
      "source": [
        "bins = [0,10,20,30,50,80]\n",
        "labels = ['Anak-anak', 'Remaja', 'Dewasa', 'Tua', 'Lansia']\n",
        "data['Age_binned'] = pd.cut(data['Age'], bins=bins, labels=labels)"
      ],
      "execution_count": 0,
      "outputs": []
    },
    {
      "cell_type": "code",
      "metadata": {
        "id": "kRO9jUa6DqIU",
        "colab_type": "code",
        "colab": {
          "base_uri": "https://localhost:8080/",
          "height": 379
        },
        "outputId": "b6e79042-ca0c-4fa7-85ae-8c8152762919"
      },
      "source": [
        "plt.figure(figsize=(15,5))\n",
        "plt.subplot2grid((1,3),(0,0)).set_title('Total')\n",
        "data.Age_binned.value_counts().plot(kind='bar').grid(True)\n",
        "\n",
        "plt.subplot2grid((1,3),(0,1)).set_title('Survived')\n",
        "data[data.Survived==1].Age_binned.value_counts().plot(kind='bar').grid(True)\n",
        "\n",
        "plt.subplot2grid((1,3),(0,2)).set_title('Not Survived ')\n",
        "data[data.Survived==0].Age_binned.value_counts().plot(kind='bar').grid(True)"
      ],
      "execution_count": 52,
      "outputs": [
        {
          "output_type": "display_data",
          "data": {
            "image/png": "[encoded data removed]",
            "text/plain": [
              "<Figure size 1080x360 with 3 Axes>"
            ]
          },
          "metadata": {
            "tags": [],
            "needs_background": "light"
          }
        }
      ]
    },
    {
      "cell_type": "code",
      "metadata": {
        "id": "VF7UgJ9QGBBi",
        "colab_type": "code",
        "colab": {
          "base_uri": "https://localhost:8080/",
          "height": 74
        },
        "outputId": "bf52b08f-8c13-4cab-85b6-24018a372c59"
      },
      "source": [
        "data.columns"
      ],
      "execution_count": 53,
      "outputs": [
        {
          "output_type": "execute_result",
          "data": {
            "text/plain": [
              "Index(['Survived', 'Pclass', 'Sex', 'Age', 'SibSp', 'Parch', 'Ticket', 'Fare',\n",
              "       'Cabin', 'Embarked', 'Age_binned'],\n",
              "      dtype='object')"
            ]
          },
          "metadata": {
            "tags": []
          },
          "execution_count": 53
        }
      ]
    },
    {
      "cell_type": "code",
      "metadata": {
        "id": "ulDtqsIaHHPH",
        "colab_type": "code",
        "colab": {}
      },
      "source": [
        ""
      ],
      "execution_count": 0,
      "outputs": []
    },
    {
      "cell_type": "markdown",
      "metadata": {
        "id": "w63iuIebHRHk",
        "colab_type": "text"
      },
      "source": [
        "### Pclass"
      ]
    },
    {
      "cell_type": "code",
      "metadata": {
        "id": "caM9ArWhHUye",
        "colab_type": "code",
        "colab": {
          "base_uri": "https://localhost:8080/",
          "height": 332
        },
        "outputId": "5e0a2b7c-ea2b-4b58-fd64-4b270ff75f9c"
      },
      "source": [
        "plt.figure(figsize=(15,5))\n",
        "plt.subplot2grid((1,3),(0,0)).set_title('Total')\n",
        "data.Pclass.value_counts().plot(kind='bar').grid(True)\n",
        "\n",
        "plt.subplot2grid((1,3),(0,1)).set_title('Survived')\n",
        "data[data.Survived==1].Pclass.value_counts().plot(kind='bar').grid(True)\n",
        "\n",
        "plt.subplot2grid((1,3),(0,2)).set_title('Not Survived ')\n",
        "data[data.Survived==0].Pclass.value_counts().plot(kind='bar').grid(True)"
      ],
      "execution_count": 55,
      "outputs": [
        {
          "output_type": "display_data",
          "data": {
            "image/png": "[encoded data removed]",
            "text/plain": [
              "<Figure size 1080x360 with 3 Axes>"
            ]
          },
          "metadata": {
            "tags": [],
            "needs_background": "light"
          }
        }
      ]
    },
    {
      "cell_type": "code",
      "metadata": {
        "id": "7MgVJ4gsHgy0",
        "colab_type": "code",
        "colab": {}
      },
      "source": [
        ""
      ],
      "execution_count": 0,
      "outputs": []
    },
    {
      "cell_type": "markdown",
      "metadata": {
        "id": "ODUwtWZWJBaQ",
        "colab_type": "text"
      },
      "source": [
        "### Sibsp"
      ]
    },
    {
      "cell_type": "code",
      "metadata": {
        "id": "m74b2VUcJDns",
        "colab_type": "code",
        "colab": {
          "base_uri": "https://localhost:8080/",
          "height": 332
        },
        "outputId": "2e4424ec-6d96-451e-c2f6-91d4ab860781"
      },
      "source": [
        "plt.figure(figsize=(15,5))\n",
        "plt.subplot2grid((1,3),(0,0)).set_title('Total')\n",
        "data.SibSp.value_counts().plot(kind='bar').grid(True)\n",
        "\n",
        "plt.subplot2grid((1,3),(0,1)).set_title('Survived')\n",
        "data[data.Survived==1].SibSp.value_counts().plot(kind='bar').grid(True)\n",
        "\n",
        "plt.subplot2grid((1,3),(0,2)).set_title('Not Survived ')\n",
        "data[data.Survived==0].SibSp.value_counts().plot(kind='bar').grid(True)"
      ],
      "execution_count": 57,
      "outputs": [
        {
          "output_type": "display_data",
          "data": {
            "image/png": "[encoded data removed]",
            "text/plain": [
              "<Figure size 1080x360 with 3 Axes>"
            ]
          },
          "metadata": {
            "tags": [],
            "needs_background": "light"
          }
        }
      ]
    },
    {
      "cell_type": "code",
      "metadata": {
        "id": "zyt3NZKBJMwx",
        "colab_type": "code",
        "colab": {
          "base_uri": "https://localhost:8080/",
          "height": 530
        },
        "outputId": "3b9c0734-8acf-437c-f4b6-53539e6dfcf4"
      },
      "source": [
        "print('Total : \\n' ,100*data.SibSp.value_counts()/data.SibSp.value_counts() )\n",
        "print('Survived : \\n' ,np.round(100*data[data.Survived==1].SibSp.value_counts()/data.SibSp.value_counts()))\n",
        "print('Not Survived :  \\n', np.round(100*data[data.Survived==0].SibSp.value_counts()/data.SibSp.value_counts()))"
      ],
      "execution_count": 63,
      "outputs": [
        {
          "output_type": "stream",
          "text": [
            "Total : \n",
            " 0    100.0\n",
            "1    100.0\n",
            "2    100.0\n",
            "4    100.0\n",
            "3    100.0\n",
            "8    100.0\n",
            "5    100.0\n",
            "Name: SibSp, dtype: float64\n",
            "Survived : \n",
            " 0    35.0\n",
            "1    54.0\n",
            "2    46.0\n",
            "3    25.0\n",
            "4    17.0\n",
            "5     NaN\n",
            "8     NaN\n",
            "Name: SibSp, dtype: float64\n",
            "Not Survived :  \n",
            " 0     65.0\n",
            "1     46.0\n",
            "2     54.0\n",
            "3     75.0\n",
            "4     83.0\n",
            "5    100.0\n",
            "8    100.0\n",
            "Name: SibSp, dtype: float64\n"
          ],
          "name": "stdout"
        }
      ]
    },
    {
      "cell_type": "code",
      "metadata": {
        "id": "hXUh4P7SKGKX",
        "colab_type": "code",
        "colab": {
          "base_uri": "https://localhost:8080/",
          "height": 498
        },
        "outputId": "a1b054fe-cade-433f-9ddb-6e3eb5d5ffbf"
      },
      "source": [
        "plt.figure(figsize=(10,8))\n",
        "plt.subplot2grid((1,2),(0,0))\n",
        "np.round(100*data[data.Survived==1].SibSp.value_counts()/data.SibSp.value_counts()).plot(kind='bar')\n",
        "plt.subplot2grid((1,2),(0,1))\n",
        "np.round(100*data[data.Survived==0].SibSp.value_counts()/data.SibSp.value_counts()).plot(kind='bar')"
      ],
      "execution_count": 68,
      "outputs": [
        {
          "output_type": "execute_result",
          "data": {
            "text/plain": [
              "<matplotlib.axes._subplots.AxesSubplot at 0x7fa47a996e80>"
            ]
          },
          "metadata": {
            "tags": []
          },
          "execution_count": 68
        },
        {
          "output_type": "display_data",
          "data": {
            "image/png": "[encoded data removed]",
            "text/plain": [
              "<Figure size 720x576 with 2 Axes>"
            ]
          },
          "metadata": {
            "tags": [],
            "needs_background": "light"
          }
        }
      ]
    },
    {
      "cell_type": "code",
      "metadata": {
        "id": "-xVNAZZDNo-f",
        "colab_type": "code",
        "colab": {
          "base_uri": "https://localhost:8080/",
          "height": 74
        },
        "outputId": "5c68ca96-dbf6-4740-f724-a9776e17d2fb"
      },
      "source": [
        "data.columns"
      ],
      "execution_count": 69,
      "outputs": [
        {
          "output_type": "execute_result",
          "data": {
            "text/plain": [
              "Index(['Survived', 'Pclass', 'Sex', 'Age', 'SibSp', 'Parch', 'Ticket', 'Fare',\n",
              "       'Cabin', 'Embarked', 'Age_binned'],\n",
              "      dtype='object')"
            ]
          },
          "metadata": {
            "tags": []
          },
          "execution_count": 69
        }
      ]
    },
    {
      "cell_type": "code",
      "metadata": {
        "id": "erSjkcqSO_w8",
        "colab_type": "code",
        "colab": {}
      },
      "source": [
        ""
      ],
      "execution_count": 0,
      "outputs": []
    },
    {
      "cell_type": "markdown",
      "metadata": {
        "id": "ovkmuwrkPFB6",
        "colab_type": "text"
      },
      "source": [
        "### Parch"
      ]
    },
    {
      "cell_type": "code",
      "metadata": {
        "id": "ZJmIGP2ePGwE",
        "colab_type": "code",
        "colab": {
          "base_uri": "https://localhost:8080/",
          "height": 169
        },
        "outputId": "21f98d6b-c0e3-4a74-d087-9abb79a35375"
      },
      "source": [
        "data.Parch.value_counts()"
      ],
      "execution_count": 71,
      "outputs": [
        {
          "output_type": "execute_result",
          "data": {
            "text/plain": [
              "0    678\n",
              "1    118\n",
              "2     80\n",
              "5      5\n",
              "3      5\n",
              "4      4\n",
              "6      1\n",
              "Name: Parch, dtype: int64"
            ]
          },
          "metadata": {
            "tags": []
          },
          "execution_count": 71
        }
      ]
    },
    {
      "cell_type": "code",
      "metadata": {
        "id": "_7PbG79tPPt6",
        "colab_type": "code",
        "colab": {
          "base_uri": "https://localhost:8080/",
          "height": 332
        },
        "outputId": "fd57228b-a210-4f7c-b07d-ba409048875c"
      },
      "source": [
        "plt.figure(figsize=(15,5))\n",
        "plt.subplot2grid((1,3),(0,0)).set_title('Total')\n",
        "data.Parch.value_counts().plot(kind='bar').grid(True)\n",
        "\n",
        "plt.subplot2grid((1,3),(0,1)).set_title('Survived')\n",
        "data[data.Survived==1].Parch.value_counts().plot(kind='bar').grid(True)\n",
        "\n",
        "plt.subplot2grid((1,3),(0,2)).set_title('Not Survived ')\n",
        "data[data.Survived==0].Parch.value_counts().plot(kind='bar').grid(True)"
      ],
      "execution_count": 72,
      "outputs": [
        {
          "output_type": "display_data",
          "data": {
            "image/png": "[encoded data removed]",
            "text/plain": [
              "<Figure size 1080x360 with 3 Axes>"
            ]
          },
          "metadata": {
            "tags": [],
            "needs_background": "light"
          }
        }
      ]
    },
    {
      "cell_type": "code",
      "metadata": {
        "id": "htFwIvb2Pi6e",
        "colab_type": "code",
        "colab": {
          "base_uri": "https://localhost:8080/",
          "height": 74
        },
        "outputId": "398e0f82-deb8-4d73-e124-27d79c9f953e"
      },
      "source": [
        "data.columns"
      ],
      "execution_count": 78,
      "outputs": [
        {
          "output_type": "execute_result",
          "data": {
            "text/plain": [
              "Index(['Survived', 'Pclass', 'Sex', 'Age', 'SibSp', 'Parch', 'Fare', 'Cabin',\n",
              "       'Embarked', 'Age_binned'],\n",
              "      dtype='object')"
            ]
          },
          "metadata": {
            "tags": []
          },
          "execution_count": 78
        }
      ]
    },
    {
      "cell_type": "code",
      "metadata": {
        "id": "kxau71H0Q2bz",
        "colab_type": "code",
        "colab": {
          "base_uri": "https://localhost:8080/",
          "height": 188
        },
        "outputId": "63542bba-50e4-428e-f1c1-1d13ecbcca21"
      },
      "source": [
        "data.Fare.describe()"
      ],
      "execution_count": 81,
      "outputs": [
        {
          "output_type": "execute_result",
          "data": {
            "text/plain": [
              "count    891.000000\n",
              "mean      32.204208\n",
              "std       49.693429\n",
              "min        0.000000\n",
              "25%        7.910400\n",
              "50%       14.454200\n",
              "75%       31.000000\n",
              "max      512.329200\n",
              "Name: Fare, dtype: float64"
            ]
          },
          "metadata": {
            "tags": []
          },
          "execution_count": 81
        }
      ]
    },
    {
      "cell_type": "code",
      "metadata": {
        "id": "K0dnnhAXWHoY",
        "colab_type": "code",
        "colab": {}
      },
      "source": [
        ""
      ],
      "execution_count": 0,
      "outputs": []
    },
    {
      "cell_type": "markdown",
      "metadata": {
        "id": "ITBSauEzdDWi",
        "colab_type": "text"
      },
      "source": [
        "### Cabin"
      ]
    },
    {
      "cell_type": "code",
      "metadata": {
        "id": "CegMjSvgdEnG",
        "colab_type": "code",
        "colab": {
          "base_uri": "https://localhost:8080/",
          "height": 245
        },
        "outputId": "a4ca165c-da1b-432a-a23c-a800e530e38e"
      },
      "source": [
        "data.Cabin.value_counts()"
      ],
      "execution_count": 84,
      "outputs": [
        {
          "output_type": "execute_result",
          "data": {
            "text/plain": [
              "G6             4\n",
              "C23 C25 C27    4\n",
              "B96 B98        4\n",
              "D              3\n",
              "C22 C26        3\n",
              "              ..\n",
              "E31            1\n",
              "E34            1\n",
              "C70            1\n",
              "C103           1\n",
              "D46            1\n",
              "Name: Cabin, Length: 147, dtype: int64"
            ]
          },
          "metadata": {
            "tags": []
          },
          "execution_count": 84
        }
      ]
    },
    {
      "cell_type": "code",
      "metadata": {
        "id": "_mUE4NqwdIKl",
        "colab_type": "code",
        "colab": {}
      },
      "source": [
        ""
      ],
      "execution_count": 0,
      "outputs": []
    },
    {
      "cell_type": "markdown",
      "metadata": {
        "id": "UHdN3gRxdXRW",
        "colab_type": "text"
      },
      "source": [
        "### Embarked"
      ]
    },
    {
      "cell_type": "code",
      "metadata": {
        "id": "0I-3DWf3dZeB",
        "colab_type": "code",
        "colab": {
          "base_uri": "https://localhost:8080/",
          "height": 93
        },
        "outputId": "18e3178c-2f3f-4837-aad9-0110b21f5b44"
      },
      "source": [
        "data.Embarked.value_counts()"
      ],
      "execution_count": 86,
      "outputs": [
        {
          "output_type": "execute_result",
          "data": {
            "text/plain": [
              "S    644\n",
              "C    168\n",
              "Q     77\n",
              "Name: Embarked, dtype: int64"
            ]
          },
          "metadata": {
            "tags": []
          },
          "execution_count": 86
        }
      ]
    },
    {
      "cell_type": "code",
      "metadata": {
        "id": "zI4Y09YydbDm",
        "colab_type": "code",
        "colab": {
          "base_uri": "https://localhost:8080/",
          "height": 93
        },
        "outputId": "3734a16e-86aa-4f70-f157-ebff237adfa7"
      },
      "source": [
        "100*data[data.Survived==1].Embarked.value_counts()/data.Embarked.value_counts()"
      ],
      "execution_count": 90,
      "outputs": [
        {
          "output_type": "execute_result",
          "data": {
            "text/plain": [
              "S    33.695652\n",
              "C    55.357143\n",
              "Q    38.961039\n",
              "Name: Embarked, dtype: float64"
            ]
          },
          "metadata": {
            "tags": []
          },
          "execution_count": 90
        }
      ]
    },
    {
      "cell_type": "code",
      "metadata": {
        "id": "EuNXFk5HdmUL",
        "colab_type": "code",
        "colab": {
          "base_uri": "https://localhost:8080/",
          "height": 93
        },
        "outputId": "f8d0bbe1-998d-4ed3-eb5c-b431b2199125"
      },
      "source": [
        "100*data[data.Survived==0].Embarked.value_counts()/data.Embarked.value_counts()"
      ],
      "execution_count": 91,
      "outputs": [
        {
          "output_type": "execute_result",
          "data": {
            "text/plain": [
              "S    66.304348\n",
              "C    44.642857\n",
              "Q    61.038961\n",
              "Name: Embarked, dtype: float64"
            ]
          },
          "metadata": {
            "tags": []
          },
          "execution_count": 91
        }
      ]
    },
    {
      "cell_type": "code",
      "metadata": {
        "id": "CAWWrZ3Mdu5t",
        "colab_type": "code",
        "colab": {}
      },
      "source": [
        ""
      ],
      "execution_count": 0,
      "outputs": []
    },
    {
      "cell_type": "markdown",
      "metadata": {
        "id": "eXnnL9Vpd5is",
        "colab_type": "text"
      },
      "source": [
        "# Feature Engineering"
      ]
    },
    {
      "cell_type": "code",
      "metadata": {
        "id": "Ugq78sAVd9ie",
        "colab_type": "code",
        "colab": {}
      },
      "source": [
        ""
      ],
      "execution_count": 0,
      "outputs": []
    },
    {
      "cell_type": "markdown",
      "metadata": {
        "id": "3b1qggjzd-DP",
        "colab_type": "text"
      },
      "source": [
        "# Model Build"
      ]
    },
    {
      "cell_type": "code",
      "metadata": {
        "id": "yzLzC7Ozd_sc",
        "colab_type": "code",
        "colab": {}
      },
      "source": [
        ""
      ],
      "execution_count": 0,
      "outputs": []
    }
  ]
}