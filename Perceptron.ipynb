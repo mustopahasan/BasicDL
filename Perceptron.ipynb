{
 "cells": [
  {
   "cell_type": "markdown",
   "metadata": {},
   "source": [
    "# Model Deep Learning dengan satu perceptron"
   ]
  },
  {
   "cell_type": "code",
   "execution_count": 1,
   "metadata": {},
   "outputs": [],
   "source": [
    "from numpy import random, exp, dot, array\n",
    "import numpy as np\n",
    "import matplotlib.pyplot as plt"
   ]
  },
  {
   "cell_type": "markdown",
   "metadata": {},
   "source": [
    "### Deklarasi Matriks feature ( input ) dan target variable ( output )"
   ]
  },
  {
   "cell_type": "code",
   "execution_count": 7,
   "metadata": {},
   "outputs": [],
   "source": [
    "X = array([[0,0,1],[1,1,1],[1,0,1],[0,1,1]])\n",
    "y = array([[0,1,1,0]]).T\n",
    "L = np.zeros(10000)"
   ]
  },
  {
   "cell_type": "code",
   "execution_count": 27,
   "metadata": {},
   "outputs": [
    {
     "name": "stdout",
     "output_type": "stream",
     "text": [
      " Final Cost function :  0.0027637832179635675\n",
      " Final Parameter :  [[ 7.27040469]\n",
      " [-0.22537925]\n",
      " [-3.41531743]]\n"
     ]
    }
   ],
   "source": [
    "random.seed(1)\n",
    "\n",
    "alpha = 0.1 # \n",
    "w = random.normal(0,1,[3,1]) # generate random value for w, center of distribution =0, stdev=1, size=3,1 untuk 3 feature\n",
    "\n",
    "for i in range(10000):\n",
    "    \n",
    "    #forward propagation\n",
    "    z = X@w\n",
    "    a = 1/(1+exp(-z)) \n",
    "    \n",
    "    #backward propagation\n",
    "    error = (y - a)\n",
    "    L[i] =error.T@error\n",
    "    delta = error*a*(1-a)\n",
    "    w = w + alpha*X.T@delta\n",
    "    \n",
    "    \n",
    "    if i == 9999 :\n",
    "        print(\" Final Cost function : \", L[i])\n",
    "        print(\" Final Parameter : \" , w )\n"
   ]
  },
  {
   "cell_type": "code",
   "execution_count": 26,
   "metadata": {},
   "outputs": [
    {
     "data": {
      "text/plain": [
       "Text(0, 0.5, ' Cost Function ')"
      ]
     },
     "execution_count": 26,
     "metadata": {},
     "output_type": "execute_result"
    },
    {
     "data": {
      "image/png": "[encoded data removed]",
      "text/plain": [
       "<Figure size 864x576 with 1 Axes>"
      ]
     },
     "metadata": {
      "needs_background": "light"
     },
     "output_type": "display_data"
    }
   ],
   "source": [
    "plot,ax = plt.subplots(figsize=(12,8))\n",
    "plt.plot(np.arange(10000), L, c = 'r' , label = \" Learning Process \")\n",
    "ax.set_title(\" Learning Process \")\n",
    "ax.legend()\n",
    "ax.set_xlabel(\" Iterasi \")\n",
    "ax.set_ylabel(\" Cost Function \")"
   ]
  },
  {
   "cell_type": "markdown",
   "metadata": {},
   "source": [
    "> dari grafik diatas dapat dilihat bahwa cost fuction konvergen menuju suatu nilai di sekitar 0.002~"
   ]
  },
  {
   "cell_type": "markdown",
   "metadata": {},
   "source": [
    "Sumber materi : \n",
    "> Kuliah Deeplearning MA4072 Matematika ITB\n",
    "\n",
    "> Codes untuk Perceptron hasil modifikasi dari https://medium.com/technology-invention-and-more/how-to-build-a-simple-neural-network-in-9-lines-of-python-code-cc8f23647ca1\n",
    "\n",
    "> Beberapa Modifikasi sendiri"
   ]
  },
  {
   "cell_type": "code",
   "execution_count": null,
   "metadata": {},
   "outputs": [],
   "source": []
  }
 ],
 "metadata": {
  "kernelspec": {
   "display_name": "Python 3",
   "language": "python",
   "name": "python3"
  },
  "language_info": {
   "codemirror_mode": {
    "name": "ipython",
    "version": 3
   },
   "file_extension": ".py",
   "mimetype": "text/x-python",
   "name": "python",
   "nbconvert_exporter": "python",
   "pygments_lexer": "ipython3",
   "version": "3.7.4"
  }
 },
 "nbformat": 4,
 "nbformat_minor": 4
}
